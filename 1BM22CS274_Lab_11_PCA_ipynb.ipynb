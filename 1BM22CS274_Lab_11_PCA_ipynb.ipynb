{
  "nbformat": 4,
  "nbformat_minor": 0,
  "metadata": {
    "colab": {
      "provenance": []
    },
    "kernelspec": {
      "name": "python3",
      "display_name": "Python 3"
    },
    "language_info": {
      "name": "python"
    }
  },
  "cells": [
    {
      "cell_type": "code",
      "execution_count": null,
      "metadata": {
        "colab": {
          "base_uri": "https://localhost:8080/"
        },
        "id": "djZDN-dqaauB",
        "outputId": "29c11057-3bf4-4714-c695-bb0b33b81782"
      },
      "outputs": [
        {
          "output_type": "stream",
          "name": "stdout",
          "text": [
            "=== Accuracy without PCA ===\n",
            "Logistic Regression: 1.0000\n",
            "Random Forest: 1.0000\n",
            "SVM: 1.0000\n",
            "\n",
            "=== Accuracy with PCA (2 components) ===\n",
            "Logistic Regression: 0.8315\n",
            "Random Forest: 0.8043\n",
            "SVM: 0.8261\n"
          ]
        }
      ],
      "source": [
        "import pandas as pd\n",
        "from sklearn.model_selection import train_test_split\n",
        "from sklearn.preprocessing import LabelEncoder, StandardScaler\n",
        "from sklearn.ensemble import RandomForestClassifier\n",
        "from sklearn.linear_model import LogisticRegression\n",
        "from sklearn.svm import SVC\n",
        "from sklearn.metrics import accuracy_score\n",
        "from sklearn.decomposition import PCA\n",
        "import warnings\n",
        "warnings.filterwarnings(\"ignore\")\n",
        "\n",
        "# Step 1: Load dataset\n",
        "df = pd.read_csv(\"/content/heart.csv\")\n",
        "\n",
        "# Step 2: Identify categorical columns\n",
        "cat_cols = df.select_dtypes(include=['object']).columns\n",
        "\n",
        "# Step 3: Apply Label Encoding for binary and One-Hot Encoding for others\n",
        "df_encoded = df.copy()\n",
        "le = LabelEncoder()\n",
        "\n",
        "for col in cat_cols:\n",
        "    if df[col].nunique() == 2:\n",
        "        df_encoded[col] = le.fit_transform(df[col])\n",
        "    else:\n",
        "        df_encoded = pd.get_dummies(df_encoded, columns=[col])\n",
        "\n",
        "# Step 4: Separate features and target\n",
        "X = df_encoded.drop(columns=['target']) if 'target' in df_encoded.columns else df_encoded.iloc[:, :-1]\n",
        "y = df_encoded['target'] if 'target' in df_encoded.columns else df_encoded.iloc[:, -1]\n",
        "\n",
        "# Step 5: Scaling\n",
        "scaler = StandardScaler()\n",
        "X_scaled = scaler.fit_transform(X)\n",
        "\n",
        "# Step 6: Split into train and test\n",
        "X_train, X_test, y_train, y_test = train_test_split(X_scaled, y, test_size=0.2, random_state=42)\n",
        "\n",
        "# Step 7: Train different models\n",
        "models = {\n",
        "    'Logistic Regression': LogisticRegression(),\n",
        "    'Random Forest': RandomForestClassifier(random_state=42),\n",
        "    'SVM': SVC()\n",
        "}\n",
        "\n",
        "print(\"=== Accuracy without PCA ===\")\n",
        "for name, model in models.items():\n",
        "    model.fit(X_train, y_train)\n",
        "    y_pred = model.predict(X_test)\n",
        "    acc = accuracy_score(y_test, y_pred)\n",
        "    print(f\"{name}: {acc:.4f}\")\n",
        "\n",
        "# Step 8: Apply PCA (reduce to 2 components for simplicity)\n",
        "pca = PCA(n_components=2)\n",
        "X_pca = pca.fit_transform(X_scaled)\n",
        "X_train_pca, X_test_pca, y_train_pca, y_test_pca = train_test_split(X_pca, y, test_size=0.2, random_state=42)\n",
        "\n",
        "print(\"\\n=== Accuracy with PCA (2 components) ===\")\n",
        "for name, model in models.items():\n",
        "    model.fit(X_train_pca, y_train_pca)\n",
        "    y_pred_pca = model.predict(X_test_pca)\n",
        "    acc_pca = accuracy_score(y_test_pca, y_pred_pca)\n",
        "    print(f\"{name}: {acc_pca:.4f}\")\n"
      ]
    }
  ]
}