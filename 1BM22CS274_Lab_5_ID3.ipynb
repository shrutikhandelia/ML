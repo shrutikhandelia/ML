{
  "nbformat": 4,
  "nbformat_minor": 0,
  "metadata": {
    "colab": {
      "provenance": []
    },
    "kernelspec": {
      "name": "python3",
      "display_name": "Python 3"
    },
    "language_info": {
      "name": "python"
    }
  },
  "cells": [
    {
      "cell_type": "code",
      "source": [
        "import numpy as np\n",
        "import pandas as pd\n",
        "from collections import Counter\n",
        "\n",
        "\n",
        "class Node:\n",
        "    def __init__(self, feature=None, value=None, label=None):\n",
        "        self.feature = feature  # Attribute to split on\n",
        "        self.value = value      # Value of the attribute\n",
        "        self.label = label      # Label if it’s a leaf node\n",
        "        self.children = {}      # Dictionary of child nodes\n",
        "\n",
        "\n",
        "def entropy(y):\n",
        "    counts = np.bincount(y)\n",
        "    probabilities = counts / len(y)\n",
        "    return -np.sum([p * np.log2(p) for p in probabilities if p > 0])\n",
        "\n",
        "\n",
        "def information_gain(X, y, feature):\n",
        "    total_entropy = entropy(y)\n",
        "    values, counts = np.unique(X[:, feature], return_counts=True)\n",
        "    weighted_entropy = sum((counts[i] / sum(counts)) * entropy(y[X[:, feature] == v]) for i, v in enumerate(values))\n",
        "    return total_entropy - weighted_entropy\n",
        "\n",
        "\n",
        "def best_feature_to_split(X, y):\n",
        "    gains = [information_gain(X, y, i) for i in range(X.shape[1])]\n",
        "    return np.argmax(gains)\n",
        "\n",
        "\n",
        "def id3(X, y, features):\n",
        "    if len(set(y)) == 1:\n",
        "        return Node(label=y[0])\n",
        "    if len(features) == 0:\n",
        "        return Node(label=Counter(y).most_common(1)[0][0])\n",
        "    best_feature = best_feature_to_split(X, y)\n",
        "    node = Node(feature=features[best_feature])\n",
        "    feature_values = np.unique(X[:, best_feature])\n",
        "    for value in feature_values:\n",
        "        sub_X = X[X[:, best_feature] == value]\n",
        "        sub_y = y[X[:, best_feature] == value]\n",
        "        if len(sub_y) == 0:\n",
        "            node.children[value] = Node(label=Counter(y).most_common(1)[0][0])\n",
        "        else:\n",
        "            node.children[value] = id3(np.delete(sub_X, best_feature, axis=1), sub_y, features[:best_feature] + features[best_feature+1:])\n",
        "    return node\n",
        "\n",
        "\n",
        "def print_tree(node, depth=0):\n",
        "    if node.label is not None:\n",
        "        print(f\"{'  ' * depth}Leaf: {node.label}\")\n",
        "        return\n",
        "    print(f\"{'  ' * depth}Feature: {node.feature}\")\n",
        "    for value, child in node.children.items():\n",
        "        print(f\"{'  ' * depth}Value: {value}\")\n",
        "        print_tree(child, depth + 1)\n",
        "\n",
        "# Example dataset\n",
        "data = pd.DataFrame({\n",
        "    'Outlook': ['Sunny', 'Sunny', 'Overcast', 'Rain', 'Rain', 'Rain', 'Overcast', 'Sunny', 'Sunny', 'Rain', 'Sunny', 'Overcast', 'Overcast', 'Rain'],\n",
        "    'Temperature': ['Hot', 'Hot', 'Hot', 'Mild', 'Cool', 'Cool', 'Cool', 'Mild', 'Cool', 'Mild', 'Mild', 'Mild', 'Hot', 'Mild'],\n",
        "    'Humidity': ['High', 'High', 'High', 'High', 'Normal', 'Normal', 'Normal', 'High', 'Normal', 'Normal', 'Normal', 'High', 'Normal', 'High'],\n",
        "    'Wind': ['Weak', 'Strong', 'Weak', 'Weak', 'Weak', 'Strong', 'Strong', 'Weak', 'Weak', 'Weak', 'Strong', 'Strong', 'Weak', 'Strong'],\n",
        "    'PlayTennis': ['No', 'No', 'Yes', 'Yes', 'Yes', 'No', 'Yes', 'No', 'Yes', 'Yes', 'Yes', 'Yes', 'Yes', 'No']\n",
        "})\n",
        "\n",
        "X = data.iloc[:, :-1].apply(lambda col: pd.factorize(col)[0]).to_numpy()\n",
        "y = pd.factorize(data['PlayTennis'])[0]\n",
        "features = list(data.columns[:-1])\n",
        "\n",
        "decision_tree = id3(X, y, features)\n",
        "print_tree(decision_tree)"
      ],
      "metadata": {
        "colab": {
          "base_uri": "https://localhost:8080/"
        },
        "id": "p_aHJJ3XCF0j",
        "outputId": "03e72beb-ee9e-48e9-edab-c3c9feff686e"
      },
      "execution_count": 10,
      "outputs": [
        {
          "output_type": "stream",
          "name": "stdout",
          "text": [
            "Feature: Outlook\n",
            "Value: 0\n",
            "  Feature: Humidity\n",
            "  Value: 0\n",
            "    Leaf: 0\n",
            "  Value: 1\n",
            "    Leaf: 1\n",
            "Value: 1\n",
            "  Leaf: 1\n",
            "Value: 2\n",
            "  Feature: Wind\n",
            "  Value: 0\n",
            "    Leaf: 1\n",
            "  Value: 1\n",
            "    Leaf: 0\n"
          ]
        }
      ]
    }
  ]
}
